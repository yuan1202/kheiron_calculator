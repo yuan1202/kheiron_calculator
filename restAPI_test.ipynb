{
 "cells": [
  {
   "cell_type": "code",
   "execution_count": 1,
   "metadata": {},
   "outputs": [],
   "source": [
    "import re\n",
    "import requests"
   ]
  },
  {
   "cell_type": "code",
   "execution_count": 2,
   "metadata": {},
   "outputs": [],
   "source": [
    "inputs_prefix = ['3', '+ 1 2', '+ 1 * 2 3', '+ * 1 2 3', '- / 10 + 1 1 * 1 2', '- 0 3', '/ 3 2', '- -100 99', '/ -100 99', '+/ -100 99']\n",
    "results_prefix = ['3', '3', '7', '5', '3', '-3', '1', '-199', '-1', '-1']\n",
    "inputs_infix = ['( 1 + 2 )', '( 1 + ( 2 * 3 ) )', '( ( 1 * 2 ) + 3 )', '( ( ( 1 + 1 ) / 10 ) - ( 1 * 2 ) )']\n",
    "results_infix = ['3', '7', '5', '-1']"
   ]
  },
  {
   "cell_type": "code",
   "execution_count": 3,
   "metadata": {},
   "outputs": [
    {
     "name": "stdout",
     "output_type": "stream",
     "text": [
      "#0 - request code: 200\n",
      "#0 - test input: \"3\"; expecting result: 3; actual result: 3;\n",
      "#1 - request code: 200\n",
      "#1 - test input: \"+ 1 2\"; expecting result: 3; actual result: 3;\n",
      "#2 - request code: 200\n",
      "#2 - test input: \"+ 1 * 2 3\"; expecting result: 7; actual result: 7;\n",
      "#3 - request code: 200\n",
      "#3 - test input: \"+ * 1 2 3\"; expecting result: 5; actual result: 5;\n",
      "#4 - request code: 200\n",
      "#4 - test input: \"- / 10 + 1 1 * 1 2\"; expecting result: 3; actual result: 3;\n",
      "#5 - request code: 200\n",
      "#5 - test input: \"- 0 3\"; expecting result: -3; actual result: -3;\n",
      "#6 - request code: 200\n",
      "#6 - test input: \"/ 3 2\"; expecting result: 1; actual result: 1;\n",
      "#7 - request code: 200\n",
      "#7 - test input: \"- -100 99\"; expecting result: -199; actual result: -199;\n",
      "#8 - request code: 200\n",
      "#8 - test input: \"/ -100 99\"; expecting result: -1; actual result: -1;\n",
      "#9 - request code: 200\n",
      "#9 - test input: \"+/ -100 99\"; expecting result: -1; actual result: -1;\n"
     ]
    }
   ],
   "source": [
    "# prefix calculation\n",
    "for i, (in_, out_) in enumerate(zip(inputs_prefix, results_prefix)):\n",
    "    \n",
    "    result = requests.post('http://localhost:5000/prefix', data=in_)\n",
    "    print('#{} - request code: {}'.format(i, result.status_code))\n",
    "    print('#{} - test input: \"{}\"; expecting result: {}; actual result: {};'.format(i, in_, out_, result.text))\n"
   ]
  },
  {
   "cell_type": "code",
   "execution_count": 4,
   "metadata": {},
   "outputs": [
    {
     "name": "stdout",
     "output_type": "stream",
     "text": [
      "#0 - request code: 200\n",
      "#0 - test input: \"( 1 + 2 )\"; expecting result: 3; actual result: 3;\n",
      "#1 - request code: 200\n",
      "#1 - test input: \"( 1 + ( 2 * 3 ) )\"; expecting result: 7; actual result: 7;\n",
      "#2 - request code: 200\n",
      "#2 - test input: \"( ( 1 * 2 ) + 3 )\"; expecting result: 5; actual result: 5;\n",
      "#3 - request code: 200\n",
      "#3 - test input: \"( ( ( 1 + 1 ) / 10 ) - ( 1 * 2 ) )\"; expecting result: -1; actual result: -1;\n"
     ]
    }
   ],
   "source": [
    "# infix calculation\n",
    "for i, (in_, out_) in enumerate(zip(inputs_infix, results_infix)):\n",
    "    \n",
    "    result = requests.post('http://localhost:5000/infix', data=in_)\n",
    "    print('#{} - request code: {}'.format(i, result.status_code))\n",
    "    print('#{} - test input: \"{}\"; expecting result: {}; actual result: {};'.format(i, in_, out_, result.text))\n"
   ]
  }
 ],
 "metadata": {
  "kernelspec": {
   "display_name": "Python 3",
   "language": "python",
   "name": "python3"
  },
  "language_info": {
   "codemirror_mode": {
    "name": "ipython",
    "version": 3
   },
   "file_extension": ".py",
   "mimetype": "text/x-python",
   "name": "python",
   "nbconvert_exporter": "python",
   "pygments_lexer": "ipython3",
   "version": "3.7.9"
  }
 },
 "nbformat": 4,
 "nbformat_minor": 4
}
